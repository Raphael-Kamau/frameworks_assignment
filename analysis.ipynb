# analysis.ipynb

import pandas as pd
import matplotlib.pyplot as plt
import seaborn as sns
from wordcloud import WordCloud

# Load data
df = pd.read_csv("metadata_sample.csv", low_memory=False)

# Clean
df.dropna(subset=["title", "abstract"], inplace=True)
df["publish_time"] = pd.to_datetime(df["publish_time"], errors="coerce")
df["year"] = df["publish_time"].dt.year
df["abstract_word_count"] = df["abstract"].apply(lambda x: len(str(x).split()))

# Visualizations
year_counts = df["year"].value_counts().sort_index()
sns.barplot(x=year_counts.index, y=year_counts.values)
plt.title("Publications by Year")
plt.show()

top_journals = df["journal"].value_counts().head(10)
top_journals.plot(kind="barh", title="Top Journals")
plt.show()

title_text = " ".join(df["title"].dropna().astype(str))
wordcloud = WordCloud(width=800, height=400, background_color="white").generate(title_text)
plt.imshow(wordcloud, interpolation="bilinear")
plt.axis("off")
plt.title("Frequent Words in Titles")
plt.show()
